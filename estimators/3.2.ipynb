{
 "cells": [
  {
   "cell_type": "code",
   "execution_count": 20,
   "metadata": {
    "collapsed": true
   },
   "outputs": [],
   "source": [
    "import pandas as pd\n",
    "import numpy as np\n",
    "import random\n",
    "import math\n",
    "import matplotlib.pyplot as plt\n",
    "import scipy.stats as sts\n",
    "from numpy import var\n",
    "%matplotlib inline"
   ]
  },
  {
   "cell_type": "code",
   "execution_count": 29,
   "metadata": {
    "collapsed": false
   },
   "outputs": [],
   "source": [
    "cauchy = []\n",
    "\n",
    "file = open('Cauchy.csv', 'r')\n",
    "for line in file:\n",
    "    for value in line.split():\n",
    "      cauchy.append(float(value))\n",
    "file.close()\n",
    "left_bar = np.mean(cauchy) - 10\n",
    "right_bar = np.mean(cauchy) + 10\n",
    "x_arr = np.arange(left_bar, right_bar, 0.01)\n",
    "veris_f = [0.0] * len(x_arr)\n",
    "\n",
    "for i in range(len(x_arr)):\n",
    "    for x in cauchy[2 : 501]:\n",
    "        veris_f[i] -= - math.log(math.pi * (1 + (x - x_arr[i]) ** 2))\n",
    "    "
   ]
  },
  {
   "cell_type": "markdown",
   "metadata": {},
   "source": [
    "Для половины выборки"
   ]
  },
  {
   "cell_type": "code",
   "execution_count": 31,
   "metadata": {
    "collapsed": false
   },
   "outputs": [
    {
     "data": {
      "image/png": "[encoded data removed]",
      "text/plain": [
       "<matplotlib.figure.Figure at 0x941d2e8>"
      ]
     },
     "metadata": {},
     "output_type": "display_data"
    }
   ],
   "source": [
    "plt.plot(x_arr, veris_f)\n",
    "##plt.ylim(0, 10 ** 9)\n",
    "plt.xlabel('$x$')\n",
    "plt.ylabel('$L(x)$')\n",
    "plt.grid()    "
   ]
  },
  {
   "cell_type": "code",
   "execution_count": 32,
   "metadata": {
    "collapsed": false
   },
   "outputs": [],
   "source": [
    "for i in range(len(x_arr)):\n",
    "    for x in cauchy[2 : 1001]:\n",
    "        veris_f[i] -= - math.log(math.pi * (1 + (x - x_arr[i]) ** 2))\n",
    "    "
   ]
  },
  {
   "cell_type": "markdown",
   "metadata": {},
   "source": [
    "Для всей выборки"
   ]
  },
  {
   "cell_type": "code",
   "execution_count": 33,
   "metadata": {
    "collapsed": false
   },
   "outputs": [
    {
     "data": {
      "image/png": "[encoded data removed]",
      "text/plain": [
       "<matplotlib.figure.Figure at 0xa93e358>"
      ]
     },
     "metadata": {},
     "output_type": "display_data"
    }
   ],
   "source": [
    "plt.plot(x_arr, veris_f)\n",
    "##plt.ylim(0, 10 ** 9)\n",
    "plt.xlabel('$x$')\n",
    "plt.ylabel('$L(x)$')\n",
    "plt.grid()    \n",
    "    "
   ]
  },
  {
   "cell_type": "code",
   "execution_count": 41,
   "metadata": {
    "collapsed": false
   },
   "outputs": [],
   "source": [
    "minn = np.min(veris_f)\n",
    "search_arr = np.arange(left_bar, right_bar, 0.01)\n",
    "for i in range(len(search_arr)):\n",
    "    if veris_f[i] == minn:\n",
    "        verisimilitude = i\n",
    "        break"
   ]
  },
  {
   "cell_type": "markdown",
   "metadata": {},
   "source": [
    "Получим параметр"
   ]
  },
  {
   "cell_type": "code",
   "execution_count": 47,
   "metadata": {
    "collapsed": false
   },
   "outputs": [
    {
     "data": {
      "text/plain": [
       "534.98196999999993"
      ]
     },
     "execution_count": 47,
     "metadata": {},
     "output_type": "execute_result"
    }
   ],
   "source": [
    "-left_bar - verisimilitude * 0.01"
   ]
  }
 ],
 "metadata": {
  "kernelspec": {
   "display_name": "Python 2",
   "language": "python",
   "name": "python2"
  },
  "language_info": {
   "codemirror_mode": {
    "name": "ipython",
    "version": 2
   },
   "file_extension": ".py",
   "mimetype": "text/x-python",
   "name": "python",
   "nbconvert_exporter": "python",
   "pygments_lexer": "ipython2",
   "version": "2.7.11"
  }
 },
 "nbformat": 4,
 "nbformat_minor": 0
}
