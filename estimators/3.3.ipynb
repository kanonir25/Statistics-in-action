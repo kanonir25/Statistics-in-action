{
 "cells": [
  {
   "cell_type": "code",
   "execution_count": 110,
   "metadata": {
    "collapsed": false
   },
   "outputs": [],
   "source": [
    "import pandas as pd\n",
    "import numpy as np\n",
    "import random\n",
    "import math\n",
    "import matplotlib.pyplot as plt\n",
    "import scipy.stats as sts\n",
    "from numpy import var\n",
    "%matplotlib inline"
   ]
  },
  {
   "cell_type": "code",
   "execution_count": 131,
   "metadata": {
    "collapsed": false
   },
   "outputs": [],
   "source": [
    "weibull = []\n",
    "log_x_arr = np.arange(-2, 2, 0.001)\n",
    "veris_f = [0.0] * len(log_x_arr)\n",
    "file = open('Weibull.csv', 'r')\n",
    "for line in file:\n",
    "    for value in line.split():\n",
    "      weibull.append(float(value))\n",
    "file.close()  \n",
    "for i in range(len(log_x_arr)):\n",
    "    gamma = 10 ** log_x_arr[i]\n",
    "    for x in weibull[0:1461]:\n",
    "        if x == 0:\n",
    "            x = 0.01 \n",
    "        veris_f[i] = veris_f[i] + log_x_arr[i] - (x ** gamma) + (gamma - 1) * math.log(x)\n",
    "    veris_f[i] = abs(veris_f[i])"
   ]
  },
  {
   "cell_type": "markdown",
   "metadata": {},
   "source": [
    "Для половины выборки"
   ]
  },
  {
   "cell_type": "code",
   "execution_count": 104,
   "metadata": {
    "collapsed": false,
    "scrolled": true
   },
   "outputs": [
    {
     "data": {
      "image/png": "[encoded data removed]",
      "text/plain": [
       "<matplotlib.figure.Figure at 0xb29d6a0>"
      ]
     },
     "metadata": {},
     "output_type": "display_data"
    }
   ],
   "source": [
    "plt.semilogy(log_x_arr, veris_f)\n",
    "plt.ylim(0, 10 ** 9)\n",
    "plt.xlabel('$x$')\n",
    "plt.ylabel('$L(x)$')\n",
    "plt.grid()    "
   ]
  },
  {
   "cell_type": "markdown",
   "metadata": {},
   "source": [
    "А теперь для всей выборки"
   ]
  },
  {
   "cell_type": "code",
   "execution_count": 118,
   "metadata": {
    "collapsed": false
   },
   "outputs": [],
   "source": [
    "for i in range(len(log_x_arr)):\n",
    "    gamma = 10 ** log_x_arr[i]\n",
    "    for x in weibull[0:3652]:\n",
    "        if x == 0:\n",
    "            x = 0.01 \n",
    "        veris_f[i] = veris_f[i] + log_x_arr[i] - (x ** gamma) + (gamma - 1) * math.log(x)\n",
    "    veris_f[i] = abs(veris_f[i])"
   ]
  },
  {
   "cell_type": "code",
   "execution_count": 119,
   "metadata": {
    "collapsed": false
   },
   "outputs": [
    {
     "data": {
      "image/png": "[encoded data removed]",
      "text/plain": [
       "<matplotlib.figure.Figure at 0xaadab38>"
      ]
     },
     "metadata": {},
     "output_type": "display_data"
    }
   ],
   "source": [
    "\n",
    "plt.semilogy(log_x_arr, veris_f)\n",
    "plt.semilogy(log_x_arr, np.zeros(log_x_arr.shape))\n",
    "plt.xlabel('$x$')\n",
    "plt.ylabel('$L(x)$')\n",
    "plt.ylim(0, 10 ** 9)\n",
    "plt.grid() "
   ]
  },
  {
   "cell_type": "markdown",
   "metadata": {},
   "source": [
    "Найдем экстремум графика. Сначала вычислим минимальное значение, а затем разыщем координату!"
   ]
  },
  {
   "cell_type": "code",
   "execution_count": 120,
   "metadata": {
    "collapsed": false
   },
   "outputs": [],
   "source": [
    "minn = np.min(veris_f)\n",
    "search_arr = np.arange(-2, -0.1, 0.001)\n",
    "for i in range(len(search_arr)):\n",
    "    if veris_f[i] == minn:\n",
    "        verisimilitude = i\n",
    "        break\n",
    "\n"
   ]
  },
  {
   "cell_type": "markdown",
   "metadata": {},
   "source": [
    "И, наконец, вычислим оценку!"
   ]
  },
  {
   "cell_type": "code",
   "execution_count": 121,
   "metadata": {
    "collapsed": false
   },
   "outputs": [
    {
     "data": {
      "text/plain": [
       "0.4655860935229589"
      ]
     },
     "execution_count": 121,
     "metadata": {},
     "output_type": "execute_result"
    }
   ],
   "source": [
    "10 ** (-2 + verisimilitude * 0.001) "
   ]
  },
  {
   "cell_type": "code",
   "execution_count": null,
   "metadata": {
    "collapsed": true
   },
   "outputs": [],
   "source": []
  }
 ],
 "metadata": {
  "kernelspec": {
   "display_name": "Python 2",
   "language": "python",
   "name": "python2"
  },
  "language_info": {
   "codemirror_mode": {
    "name": "ipython",
    "version": 2
   },
   "file_extension": ".py",
   "mimetype": "text/x-python",
   "name": "python",
   "nbconvert_exporter": "python",
   "pygments_lexer": "ipython2",
   "version": "2.7.11"
  }
 },
 "nbformat": 4,
 "nbformat_minor": 0
}
