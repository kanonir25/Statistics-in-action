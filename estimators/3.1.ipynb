{
 "cells": [
  {
   "cell_type": "code",
   "execution_count": 1,
   "metadata": {
    "collapsed": true
   },
   "outputs": [],
   "source": [
    "import pandas as pd\n",
    "import numpy as np\n",
    "import random\n",
    "import matplotlib.pyplot as plt\n",
    "import scipy.stats as sts\n",
    "from numpy import var\n",
    "%matplotlib inline"
   ]
  },
  {
   "cell_type": "code",
   "execution_count": 128,
   "metadata": {
    "collapsed": false
   },
   "outputs": [],
   "source": [
    "N = 1000\n",
    "norm_rv = sts.norm(0, 1)\n",
    "gamma_rv = sts.gamma(1, 3)\n",
    "uniform_rv = sts.uniform(2, 3)\n",
    "pois_rv = sts.poisson(10)\n",
    "binom_rv = sts.binom(100, 0.05)\n",
    "geom_rv = sts.geom(0.2)\n",
    "beta_rv = sts.beta(1, 1)\n",
    "pareto_rv = sts.pareto(1)\n",
    "cauchy_rv = sts.cauchy(1)\n",
    "norm = norm_rv.rvs(N)\n",
    "gamma = gamma_rv.rvs(N)\n",
    "uniform = uniform_rv.rvs(N)\n",
    "pois = pois_rv.rvs(N)\n",
    "binom = binom_rv.rvs(N)\n",
    "geom = geom_rv.rvs(N)\n",
    "beta = beta_rv.rvs(N)\n",
    "pareto = pareto_rv.rvs(N)\n",
    "cauchy = cauchy_rv.rvs(N)"
   ]
  },
  {
   "cell_type": "markdown",
   "metadata": {},
   "source": [
    "С помощью метода моментов найдем оценки для распределений"
   ]
  },
  {
   "cell_type": "code",
   "execution_count": 109,
   "metadata": {
    "collapsed": false
   },
   "outputs": [],
   "source": [
    "norm_mark_1 = np.array([np.sum(norm[0 : n + 1]) / (n + 1) for n in range (N)])\n",
    "disp = norm ** 2\n",
    "norm_mark_2 = np.array([np.sum(disp[0 : n + 1]) / (n + 1) for n in range (N)]) - norm_mark_1 ** 2"
   ]
  },
  {
   "cell_type": "code",
   "execution_count": 110,
   "metadata": {
    "collapsed": false
   },
   "outputs": [],
   "source": [
    "gamma_avg = np.array([np.sum(gamma[0 : n + 1]) / (n + 1) for n in range (N)])\n",
    "disp = gamma ** 2\n",
    "gamma_disp = np.array([np.sum(disp[0 : n + 1]) / (n + 1) for n in range (N)]) - gamma_avg ** 2\n",
    "gamma_mark_1 = gamma_avg / gamma_disp\n",
    "gamma_mark_2 = (gamma_avg ** 2) / gamma_disp "
   ]
  },
  {
   "cell_type": "code",
   "execution_count": 112,
   "metadata": {
    "collapsed": false
   },
   "outputs": [],
   "source": [
    "pois_avg = np.array([float(np.sum(pois[0 : n + 1])) / (n + 1) for n in range (N)])\n",
    "pois_mark = pois_avg"
   ]
  },
  {
   "cell_type": "code",
   "execution_count": 114,
   "metadata": {
    "collapsed": false
   },
   "outputs": [],
   "source": [
    "geom_avg = np.array([np.sum(geom[0 : n + 1]) / (n + 1) for n in range (N)])\n",
    "geom_mark = 1. / geom_avg"
   ]
  },
  {
   "cell_type": "code",
   "execution_count": 143,
   "metadata": {
    "collapsed": false
   },
   "outputs": [],
   "source": [
    "binom_avg = np.array([float(np.sum(binom[0 : n + 1])) / (n + 1) for n in range (N)])\n",
    "bin_disp = binom ** 2\n",
    "binom_disp = np.array([float(np.sum(bin_disp[0 : n + 1])) / (n + 1) for n in range (N)]) - binom_avg ** 2\n",
    "binom_mark_2 = 1 - binom_disp / binom_avg\n",
    "binom_mark_1 = binom_avg / binom_mark_2"
   ]
  },
  {
   "cell_type": "code",
   "execution_count": 138,
   "metadata": {
    "collapsed": false
   },
   "outputs": [],
   "source": [
    "binom_avg = np.array([float(np.sum(binom[0 : n + 1])) / (n + 1) for n in range (N)])\n",
    "disp = binom ** 2\n",
    "binom_disp = np.array([float(np.sum(disp[0 : n + 1])) / (n + 1) for n in range (N)]) - norm_mark_1 ** 2\n",
    "bind = 1 - binom_disp / binom_avg"
   ]
  },
  {
   "cell_type": "code",
   "execution_count": 129,
   "metadata": {
    "collapsed": false
   },
   "outputs": [],
   "source": [
    "uniform_avg = np.array([float(np.sum(uniform[0 : n + 1])) / (n + 1) for n in range (N)])\n",
    "disp = uniform ** 2\n",
    "uniform_disp = np.array([float(np.sum(disp[0 : n + 1])) / (n + 1) for n in range (N)]) - uniform_avg ** 2\n",
    "mark_2 = uniform_avg + np.sqrt(3) * np.sqrt(uniform_disp)\n",
    "mark_1 = uniform_avg * 2 - mark_2"
   ]
  },
  {
   "cell_type": "code",
   "execution_count": 135,
   "metadata": {
    "collapsed": false
   },
   "outputs": [],
   "source": []
  }
 ],
 "metadata": {
  "kernelspec": {
   "display_name": "Python 2",
   "language": "python",
   "name": "python2"
  },
  "language_info": {
   "codemirror_mode": {
    "name": "ipython",
    "version": 2
   },
   "file_extension": ".py",
   "mimetype": "text/x-python",
   "name": "python",
   "nbconvert_exporter": "python",
   "pygments_lexer": "ipython2",
   "version": "2.7.11"
  }
 },
 "nbformat": 4,
 "nbformat_minor": 0
}
