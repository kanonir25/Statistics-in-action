{
 "cells": [
  {
   "cell_type": "code",
   "execution_count": 3,
   "metadata": {
    "collapsed": true
   },
   "outputs": [],
   "source": [
    "import pandas as pd\n",
    "import numpy as np\n",
    "import math\n",
    "import random\n",
    "import matplotlib.pyplot as plt\n",
    "import scipy.stats as sts\n",
    "%matplotlib inline"
   ]
  },
  {
   "cell_type": "markdown",
   "metadata": {
    "collapsed": true
   },
   "source": [
    "Считаем данные"
   ]
  },
  {
   "cell_type": "code",
   "execution_count": 4,
   "metadata": {
    "collapsed": false
   },
   "outputs": [],
   "source": [
    "regression = []\n",
    "file = open('Regression.csv', 'r')\n",
    "\n",
    "for line in file:\n",
    "    for value in line.split():\n",
    "      regression.append(float(value))\n",
    "file.close()"
   ]
  },
  {
   "cell_type": "markdown",
   "metadata": {},
   "source": [
    "### Воспользуемся выводом из семинаров\n",
    "\n",
    "$\\LARGE \\hat{\\beta_1} = X_0$\n",
    "\n",
    "$\\LARGE\\hat{\\beta_2} = \\frac{X_{n} - X_0}{n}$\n",
    "\n",
    "$\\LARGE\\hat{\\sigma^2} = \\frac{1}{n - 1}\\sum_{i = 1}^{n}{({X_{i} - X_{i - 1} - \\frac{X_{n} - X_0}{n}})}^2$\n",
    "\n",
    "$\\LARGE\\hat{\\sigma^2_t} = \\frac{\\hat{\\sigma^2}}{\\beta_2^2}$"
   ]
  },
  {
   "cell_type": "code",
   "execution_count": 7,
   "metadata": {
    "collapsed": false
   },
   "outputs": [],
   "source": [
    "X = np.array(regression)\n",
    "N = X.size\n",
    "Y = np.arange(1, N)\n",
    "mark_1 = X[0]\n",
    "mark_2 = (X[N - 1] - X[0]) / N\n",
    "mark_sigma = np.sum((X[i] - X[i - 1] - mark_2)**2 for i in Y) / (N - 1)\n",
    "mark_sigma_t = mark_sigma / (mark_2 ** 2)"
   ]
  },
  {
   "cell_type": "code",
   "execution_count": 9,
   "metadata": {
    "collapsed": false
   },
   "outputs": [
    {
     "name": "stdout",
     "output_type": "stream",
     "text": [
      "63.5725\n",
      "9.9573741\n",
      "4.21866938344\n",
      "0.0425486556877\n"
     ]
    }
   ],
   "source": [
    "print mark_1\n",
    "print mark_2\n",
    "print mark_sigma\n",
    "print mark_sigma_t\n"
   ]
  },
  {
   "cell_type": "markdown",
   "metadata": {},
   "source": [
    "### Получили маленькую дисперсию, значит оценка наименьших квадратов является приемлимой"
   ]
  },
  {
   "cell_type": "code",
   "execution_count": null,
   "metadata": {
    "collapsed": true
   },
   "outputs": [],
   "source": []
  }
 ],
 "metadata": {
  "kernelspec": {
   "display_name": "Python 2",
   "language": "python",
   "name": "python2"
  },
  "language_info": {
   "codemirror_mode": {
    "name": "ipython",
    "version": 2
   },
   "file_extension": ".py",
   "mimetype": "text/x-python",
   "name": "python",
   "nbconvert_exporter": "python",
   "pygments_lexer": "ipython2",
   "version": "2.7.11"
  }
 },
 "nbformat": 4,
 "nbformat_minor": 0
}
