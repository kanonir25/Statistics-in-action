{
 "cells": [
  {
   "cell_type": "code",
   "execution_count": 2,
   "metadata": {
    "collapsed": true
   },
   "outputs": [],
   "source": [
    "import pandas as pd\n",
    "import numpy as np\n",
    "import random\n",
    "import math\n",
    "import matplotlib.pyplot as plt\n",
    "import scipy.stats as sts\n",
    "%matplotlib inline"
   ]
  },
  {
   "cell_type": "markdown",
   "metadata": {},
   "source": [
    "Возьмем исходные данные из файла"
   ]
  },
  {
   "cell_type": "code",
   "execution_count": 40,
   "metadata": {
    "collapsed": false
   },
   "outputs": [],
   "source": [
    "Lambda = 95\n",
    "t_0 = 500\n",
    "t = 100000\n",
    "N = 1000"
   ]
  },
  {
   "cell_type": "markdown",
   "metadata": {},
   "source": [
    "Считаем из файла остальные данные"
   ]
  },
  {
   "cell_type": "code",
   "execution_count": 33,
   "metadata": {
    "collapsed": false
   },
   "outputs": [],
   "source": [
    "processes = []\n",
    "file = open('6.csv', 'r')\n",
    "for i in range(4):\n",
    "    file.readline()\n",
    "\n",
    "for line in file:\n",
    "    for value in line.split():\n",
    "      processes.append(float(value))\n",
    "file.close()"
   ]
  },
  {
   "cell_type": "markdown",
   "metadata": {},
   "source": [
    "Создадим массив случайных величин ~ Exp(lambda) равных разности соседних чисел"
   ]
  },
  {
   "cell_type": "code",
   "execution_count": 47,
   "metadata": {
    "collapsed": false
   },
   "outputs": [],
   "source": [
    "stohastic_values = np.zeros(N)\n",
    "stohastic_values[0] = processes[0]\n",
    "for i in range(N - 2):\n",
    "    stohastic_values[i + 1] = processes[i + 1] - processes[i] "
   ]
  },
  {
   "cell_type": "markdown",
   "metadata": {},
   "source": [
    "Найдем общую формулу для $E(N_t | N_s)$ :\n",
    "\n",
    "$E(N_t | N_s) = E(N_t - N_s + N_s | N_s) = E(N_t - N_s | N_s) + E(N_s | N_s) = (t - s) / \\lambda + N_s $\n",
    "\n",
    "Сначала добавим и вычтем $N_s$, затем воспользуемся линейностью УМО. Поскольку $N_t - N_s ~ Pois((t - s) / \\lambda)$ и независима с $N_s$, то по свойству УМО первое равенство выполняется п.н. $E(N_t - N_s | N_s) =E(N_t - N_s) = (t - s) / \\lambda$. \n",
    "Также п.н. $E(N_s | N_s) = E N_s$\n",
    "\n",
    "Получаем, что $ \\forall k \\in \\mathbb{N}$ : \n",
    "\n",
    "$E(N_t | N_s) = (t - kt_0) / \\lambda + N_kt_0$"
   ]
  },
  {
   "cell_type": "code",
   "execution_count": 239,
   "metadata": {
    "collapsed": false
   },
   "outputs": [],
   "source": [
    "n = np.zeros(200)\n",
    "time = np.arange(0, t, t_0)\n",
    "tim = time / 500\n",
    "n[0] = 3\n",
    "for i in tim[1:]:\n",
    "    j = 0\n",
    "    curS = np.sum(stohastic_values[:int(n[i - 1])])\n",
    "    while (curS < ((i + 1) * 500)):\n",
    "        j = j + 1\n",
    "        if (j + int(n[i - 1]) >= 1000):\n",
    "            break\n",
    "        curS += stohastic_values[j + int(n[i - 1])]\n",
    "    n[i] = n[i - 1] + j - 1\n",
    "n = n + 1"
   ]
  },
  {
   "cell_type": "markdown",
   "metadata": {},
   "source": [
    "Вычислим массив предсказаний"
   ]
  },
  {
   "cell_type": "code",
   "execution_count": 246,
   "metadata": {
    "collapsed": false
   },
   "outputs": [
    {
     "name": "stdout",
     "output_type": "stream",
     "text": [
      "[ 1056.  1061.  1060.  1063.  1062.  1060.  1065.  1059.  1060.  1064.\n",
      "  1064.  1060.  1062.  1060.  1054.  1055.  1057.  1061.  1061.  1062.\n",
      "  1063.  1066.  1066.  1064.  1063.  1064.  1066.  1068.  1069.  1071.\n",
      "  1070.  1074.  1071.  1071.  1071.  1067.  1065.  1064.  1064.  1065.\n",
      "  1067.  1069.  1071.  1069.  1072.  1074.  1075.  1074.  1076.  1073.\n",
      "  1071.  1074.  1071.  1071.  1070.  1072.  1069.  1069.  1068.  1072.\n",
      "  1069.  1074.  1071.  1072.  1070.  1075.  1074.  1078.  1079.  1083.\n",
      "  1082.  1081.  1082.  1083.  1087.  1084.  1086.  1084.  1086.  1084.\n",
      "  1082.  1085.  1084.  1086.  1088.  1089.  1089.  1084.  1084.  1084.\n",
      "  1091.  1089.  1097.  1098.  1095.  1092.  1093.  1101.  1096.  1096.\n",
      "  1092.  1094.  1088.  1084.  1093.  1089.  1088.  1088.  1088.  1087.\n",
      "  1084.  1085.  1090.  1090.  1091.  1090.  1093.  1092.  1091.  1088.\n",
      "  1089.  1090.  1092.  1095.  1095.  1094.  1096.  1095.  1093.  1094.\n",
      "  1092.  1090.  1087.  1086.  1085.  1086.  1084.  1081.  1084.  1083.\n",
      "  1082.  1082.  1081.  1080.  1080.  1078.  1077.  1075.  1075.  1073.\n",
      "  1077.  1074.  1072.  1073.  1077.  1076.  1078.  1078.  1077.  1077.\n",
      "  1076.  1075.  1072.  1069.  1069.  1066.  1063.  1063.  1061.  1060.\n",
      "  1062.  1064.  1064.  1060.  1059.  1058.  1061.  1060.  1057.  1061.\n",
      "  1057.  1056.  1054.  1053.  1061.  1058.  1057.  1057.  1060.  1059.\n",
      "  1059.  1059.  1059.  1059.  1059.  1059.  1059.  1059.  1059.  1059.]\n"
     ]
    }
   ],
   "source": [
    "mean = np.zeros(200)\n",
    "time = np.arange(0, t, t_0)\n",
    "for s in time:\n",
    "    mean[int(s/500)] = (t - s) / Lambda + n[int(s/500)]\n",
    "print(mean)"
   ]
  },
  {
   "cell_type": "markdown",
   "metadata": {},
   "source": [
    "Построим график условного матожидания"
   ]
  },
  {
   "cell_type": "code",
   "execution_count": 241,
   "metadata": {
    "collapsed": false
   },
   "outputs": [
    {
     "data": {
      "text/plain": [
       "[<matplotlib.lines.Line2D at 0xaec8588>]"
      ]
     },
     "execution_count": 241,
     "metadata": {},
     "output_type": "execute_result"
    },
    {
     "data": {
      "image/png": "[encoded data removed]",
      "text/plain": [
       "<matplotlib.figure.Figure at 0xac681d0>"
      ]
     },
     "metadata": {},
     "output_type": "display_data"
    }
   ],
   "source": [
    "plt.plot(time, mean)"
   ]
  }
 ],
 "metadata": {
  "kernelspec": {
   "display_name": "Python 2",
   "language": "python",
   "name": "python2"
  },
  "language_info": {
   "codemirror_mode": {
    "name": "ipython",
    "version": 2
   },
   "file_extension": ".py",
   "mimetype": "text/x-python",
   "name": "python",
   "nbconvert_exporter": "python",
   "pygments_lexer": "ipython2",
   "version": "2.7.11"
  }
 },
 "nbformat": 4,
 "nbformat_minor": 0
}
